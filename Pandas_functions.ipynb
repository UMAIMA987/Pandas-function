{
  "nbformat": 4,
  "nbformat_minor": 0,
  "metadata": {
    "colab": {
      "provenance": []
    },
    "kernelspec": {
      "name": "python3",
      "display_name": "Python 3"
    },
    "language_info": {
      "name": "python"
    }
  },
  "cells": [
    {
      "cell_type": "markdown",
      "source": [
        "Pandas is a popular Python library for data manipulation and analysis. Here are some common functions that you can use in Pandas:\n",
        "\n",
        "## **Data loading and writing functions:**\n",
        "\n",
        "**read_csv():** Load data from a CSV file\n",
        "\n",
        "**read_excel():** Load data from an Excel file\n",
        "\n",
        "**read_sql():** Load data from a SQL database\n",
        "\n",
        "**to_csv():** Write data to a CSV file\n",
        "\n",
        "**to_excel():** Write data to an Excel file\n",
        "\n",
        "**to_sql():** Write data to a SQL database\n",
        "\n",
        "\n"
      ],
      "metadata": {
        "id": "n3kbVeKushB1"
      }
    },
    {
      "cell_type": "markdown",
      "source": [
        "## **Data manipulation and analysis functions:**\n",
        "\n",
        "**head()**: Display the first few rows of a DataFrame\n",
        "\n",
        "**tail()**: Display the last few rows of a DataFrame\n",
        "\n",
        "**describe()**: Compute summary statistics of a DataFrame\n",
        "\n",
        "**to_string**: Print whole data\n",
        "\n",
        "**drop()**: Remove one or more columns from a DataFrame\n",
        "\n",
        "**dropna()**: Drop null values\n",
        "\n",
        "**fillna()**: Fill null values by given value\n",
        "\n",
        "**to_datetime()**: Convert object into date and time data type\n",
        "\n",
        "**duplicated()**: Find out duplicate rows\n",
        "\n",
        "**drop_duplicates()**: Drop duplicate values\n",
        "\n",
        "**corr()**: Find the correlation between 2 or more columns\n",
        "\n",
        "\n"
      ],
      "metadata": {
        "id": "DjmA3Ey2J1nr"
      }
    },
    {
      "cell_type": "markdown",
      "source": [
        "\n",
        "\n",
        "# **Data visualization functions:** \n",
        "\n",
        "**plot()**: Create a basic plot of a DataFrame\n",
        "\n",
        "**hist()**: Create a histogram of a DataFrame\n",
        "\n",
        "**scatter()**: Create a scatter plot of a DataFrame\n",
        "\n",
        "**boxplot()**: Create a box plot of a DataFrame\n",
        "\n",
        "**heatmap()**: Create a heatmap of a DataFrame\n",
        "\n",
        "There are many more functions available in Pandas, but these are some of the most commonly used ones."
      ],
      "metadata": {
        "id": "lSRuqVvMtTKj"
      }
    },
    {
      "cell_type": "code",
      "source": [],
      "metadata": {
        "id": "EXztsoPhRzk4"
      },
      "execution_count": null,
      "outputs": []
    }
  ]
}